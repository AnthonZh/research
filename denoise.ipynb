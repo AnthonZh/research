{
 "cells": [
  {
   "cell_type": "markdown",
   "metadata": {},
   "source": [
    "**This notebook is for denoising and saving a CT series (After Training and Testing)**"
   ]
  },
  {
   "cell_type": "code",
   "execution_count": null,
   "metadata": {},
   "outputs": [],
   "source": [
    "#Update the variables as their name describes\n",
    "model_path: str = ''\n",
    "series_path: str = ''\n",
    "denoised_series_path: str = ''\n",
    "sample_steps: int = 1"
   ]
  },
  {
   "cell_type": "code",
   "execution_count": null,
   "metadata": {},
   "outputs": [],
   "source": [
    "!pip3 install -r requirements.txt"
   ]
  },
  {
   "cell_type": "code",
   "execution_count": null,
   "metadata": {},
   "outputs": [],
   "source": [
    "#Run to initialize\n",
    "import torch\n",
    "import yaml\n",
    "import math\n",
    "import os\n",
    "\n",
    "from torch.distributed import init_process_group, destroy_process_group\n",
    "\n",
    "from architectures.UNET.unet import UNET\n",
    "from architectures.openai.unet import UNetModel\n",
    "\n",
    "DEEP_MODEL='deep'\n",
    "OPENAI_MODEL='oai'\n",
    "\n",
    "def ddp_setup():  \n",
    "    init_process_group(backend=\"nccl\")\n",
    "    torch.cuda.set_device(int(os.environ[\"RANK\"])) \n",
    "\n",
    "with open(\"parameters.yaml\", 'r') as stream:\n",
    "    parameters = yaml.safe_load(stream)\n",
    "ddp_setup()\n",
    "gpu_id = int(os.environ[\"RANK\"])\n",
    "\n",
    "if parameters['model_type'] == DEEP_MODEL: \n",
    "    model = UNET( img_channels=parameters['img_channels'],  device=gpu_id,groupnorm=parameters['groupnorm'], attention_resolution=parameters['attention_resolutions'], \n",
    "                num_heads=parameters['num_heads'], dropout=parameters['dropout'],base_channels=parameters['base_channels'],\n",
    "                num_res_blocks=parameters['num_res_blocks'],  use_flash_attention=parameters['use_flash_attention'], emb_time_multiplier=parameters['emb_time_multiplier'],\n",
    "                num_head_channels=parameters['num_head_channels'], use_new_attention_order=parameters['use_new_attention_order'],\n",
    "                use_scale_shift_norm=parameters['use_scale_shift_norm'],use_conv=parameters['use_conv'], use_conv_up_down =parameters['use_conv_up_down']).to(device=gpu_id)\n",
    "else:\n",
    "    model= UNetModel(attention_resolutions=parameters['attention_resolutions'], use_scale_shift_norm=parameters['use_scale_shift_norm'],\n",
    "                model_channels=parameters['base_channels'],num_head_channels=parameters['num_head_channels'],dropout=parameters['dropout'],\n",
    "                num_res_blocks=parameters['num_res_blocks'],resblock_updown=True,image_size=parameters['image_size'],in_channels=parameters['img_dimension'],out_channels=parameters['img_dimension'])\n",
    "model.load_state_dict(torch.load(model_path))\n",
    "model.to(device=gpu_id)\n",
    "\n",
    "sigma_min = 0.002\n",
    "sigma_data = 0.5\n",
    "sigma_max = 80.0"
   ]
  },
  {
   "cell_type": "code",
   "execution_count": null,
   "metadata": {},
   "outputs": [],
   "source": [
    "#Important methods\n",
    "def multiple_step_denoising(sample_steps, x): \n",
    "    sigmas = get_sigmas_linear_reverse(sample_steps) \n",
    "    sample_results = sample(model=model, x=x, ts=sigmas)\n",
    "    return sample_results\n",
    "\n",
    "def get_sigmas_linear_reverse(n, sigma_min=0.002, sigma_max=79.999985): \n",
    "    sigmas = torch.linspace(sigma_max, sigma_min, n, dtype=torch.float16).to(device=gpu_id)\n",
    "    return sigmas\n",
    "\n",
    "def sample(model, x, ts): \n",
    "    sigma = ts[0:1]\n",
    "    sigma = torch.full((x.shape[0],), sigma[0], dtype=x.dtype, device=gpu_id) \n",
    "    x = model_forward_wrapper(model, x, sigma)\n",
    "\n",
    "    for sigma in ts[1:]:\n",
    "        z = torch.randn_like(x).to(device=gpu_id)\n",
    "        x = x + math.sqrt(sigma**2 - sigma_min**2) * z\n",
    "        x = model_forward_wrapper(model, x, torch.tensor([sigma])) \n",
    "\n",
    "    return x\n",
    "\n",
    "def model_forward_wrapper(model, x, sigma):\n",
    "    x = x.to(device=gpu_id)\n",
    "    sigma = sigma.to(device=gpu_id)\n",
    "\n",
    "    c_skip = skip_scaling(sigma)\n",
    "    c_out = output_scaling(sigma) \n",
    "            \n",
    "    c_skip = pad_dims_like(c_skip, x).to(device=gpu_id)\n",
    "    c_out = pad_dims_like(c_out, x).to(device=gpu_id)\n",
    "\n",
    "    return c_skip * x + c_out * model(x, sigma)\n",
    "\n",
    "def skip_scaling(sigma):\n",
    "    return sigma_data**2 / ((sigma - sigma_min) ** 2 + sigma_data**2)\n",
    "    \n",
    "def output_scaling(sigma):\n",
    "    return (sigma_data * (sigma - sigma_min)) / (sigma_data**2 + sigma**2) ** 0.5\n",
    "    \n",
    "def pad_dims_like(x, other):\n",
    "    ndim = other.ndim - x.ndim\n",
    "    return x.view(*x.shape, *((1,) * ndim))\n"
   ]
  },
  {
   "cell_type": "code",
   "execution_count": null,
   "metadata": {},
   "outputs": [],
   "source": [
    "import pydicom\n",
    "import numpy as np\n",
    "\n",
    "series = os.scandir(series_path)\n",
    "\n",
    "for entry in series:\n",
    "    name = entry.name\n",
    "    name = name.split('.')\n",
    "    if not (entry.is_file() and name[1] == 'dcm'):\n",
    "        continue\n",
    "    else:\n",
    "        ds = pydicom.dcmread(entry.path)\n",
    "\n",
    "        image = ds.pixel_array\n",
    "        image = image.astype(np.float32)\n",
    "        image = torch.from_numpy(image)\n",
    "        image = torch.unsqueeze(image, 0)\n",
    "        image = torch.unsqueeze(image, 0) #[1, 1, 512, 512]\n",
    "\n",
    "        image = image.to(device=gpu_id)\n",
    "\n",
    "        image = multiple_step_denoising(sample_steps=sample_steps, x=image)\n",
    "\n",
    "        image = torch.squeeze(image)\n",
    "        image = image.numpy(force=True)\n",
    "\n",
    "        image = (image - np.min(image))\n",
    "        image = image/np.max(image)\n",
    "        image = (image * 4095).astype(np.uint8)\n",
    "\n",
    "        ds.PixelData = image.tobytes()\n",
    "        ds.save_as(f'{name[0]}-denoised')\n",
    "\n",
    "series.close()"
   ]
  },
  {
   "cell_type": "code",
   "execution_count": null,
   "metadata": {},
   "outputs": [],
   "source": [
    "destroy_process_group()"
   ]
  }
 ],
 "metadata": {
  "language_info": {
   "name": "python"
  }
 },
 "nbformat": 4,
 "nbformat_minor": 2
}
